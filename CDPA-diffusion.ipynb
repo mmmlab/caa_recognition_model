{
 "metadata": {
  "name": "",
  "signature": "sha256:caeec0568ee3b16b27c24b3961049794cdf7e8328c987b2a8629b9b275fbc349"
 },
 "nbformat": 3,
 "nbformat_minor": 0,
 "worksheets": [
  {
   "cells": [
    {
     "cell_type": "code",
     "collapsed": false,
     "input": [
      "from pylab import *\n",
      "import numpy as np\n",
      "import pylab as pl\n",
      "from scipy import stats\n",
      "from pylab import array, linspace, arange, sign, sqrt, log, sum\n",
      "from scipy import optimize\n",
      "from operator import itemgetter\n",
      "observed = numpy.loadtxt('myData.dat'); # load the observed data\n",
      "observed"
     ],
     "language": "python",
     "metadata": {},
     "outputs": [
      {
       "metadata": {},
       "output_type": "pyout",
       "prompt_number": 34,
       "text": [
        "array([[  918.,   526.,     0.],\n",
        "       [  321.,   353.,     0.],\n",
        "       [   64.,   125.,     0.],\n",
        "       [    0.,     0.,  1661.],\n",
        "       [  196.,   164.,     0.],\n",
        "       [  184.,   283.,     0.],\n",
        "       [   72.,   132.,     0.],\n",
        "       [    0.,     0.,  2937.]])"
       ]
      }
     ],
     "prompt_number": 34
    },
    {
     "cell_type": "code",
     "collapsed": false,
     "input": [
      "# Constants\n",
      "DELTA_T     = 0.1;  # size of discrete time increment (sec.)\n",
      "MAX_T       = 60.0; #(i.e., 1 minute)\n",
      "NR_TSTEPS  = MAX_T/DELTA_T;\n",
      "NR_SAMPLES  = 5000; # number of trials to use for MC likelihood computation\n",
      "n = 3; # number of confidence critetion\n",
      "\n",
      "def compute_proportion(parameters):\n",
      "    c = parameters[0:n];\n",
      "    R = parameters[n];\n",
      "    F = parameters[n+1];\n",
      "    D = parameters[n+2];\n",
      "    L = parameters[n+3];\n",
      "    mu_r = parameters[n+4]; \n",
      "    s_r = parameters[n+5]; \n",
      "    mu_f = parameters[n+6]; \n",
      "    s_f = parameters[n+7]; \n",
      "    mu_r0 = parameters[n+8];\n",
      "    s_r0 = parameters[n+9];\n",
      "    mu_f0 = parameters[n+10];\n",
      "    s_f0 = parameters[n+11];\n",
      "\n",
      "    data_old = predicted(c,R,F,D,L,mu_r,s_r,mu_f,s_f);\n",
      "    data_new = predicted(c,R,F,D,L,mu_r0,s_r0,mu_f0,s_f0);\n",
      "    predicted_proportions = vstack((data_old,data_new));\n",
      "    return predicted_proportions;\n",
      "\n",
      "def predicted(c,R,F,D,L,mu_r,s_r,mu_f,s_f):\n",
      "    rem = zeros((n,1));\n",
      "    know = zeros((n,1));\n",
      "    remRT = zeros((n,5000));\n",
      "    knowRT = zeros((n,5000));\n",
      "    \n",
      "    # compute process SD\n",
      "    sigma = sqrt(2*D*DELTA_T);\n",
      "    \n",
      "    t = linspace(DELTA_T,MAX_T,NR_TSTEPS);\n",
      "    bound = 3.5*exp(-L*t);\n",
      "    # compute mean drift over a single time interval\n",
      "    r = stats.norm.rvs(mu_r,s_r,size=NR_SAMPLES);\n",
      "    f = stats.norm.rvs(mu_f,s_f,size=NR_SAMPLES);\n",
      "    mu = (r+f)*DELTA_T;   \n",
      "    # Now simulate NR_SAMPLES trials\n",
      "    # 1. Generate a random position change for each time interval\n",
      "    #   these position changes should be drawn from a normal distribution with mean\n",
      "    #   mu and standard deviation sigma\n",
      "    delta_pos = [];\n",
      "    for i in range(NR_SAMPLES):\n",
      "        delta = stats.norm.rvs(mu[i],sigma,size=(NR_TSTEPS));\n",
      "        delta_pos.append(delta);\n",
      "        \n",
      "    # 2. Use cumsum to compute absolute positions from delta_pos\n",
      "    positions = pl.cumsum(delta_pos,1);   #+z;\n",
      "    # 3. Now loop through each sample trial to compute decisions and resp times\n",
      "    decisions = [];\n",
      "    resp_times = [];\n",
      "    confidences = [];\n",
      "    remKnows = [];\n",
      "    for i, pos in enumerate(positions):\n",
      "        # Find the index where the position first crosses a boundary (i.e., 1 or -1)\n",
      "        cross_indices = pl.find(abs(pos)>=bound);\n",
      "        if len(cross_indices):\n",
      "            cross_idx = cross_indices[0]; # take the first index\n",
      "        else: # i.e., if no crossing was found\n",
      "            cross_idx = NR_TSTEPS-1; # set it to the final index\n",
      "        # 4. Now we can use this index to determine both the decision and the response time\n",
      "        decision = pos[cross_idx]>0;\n",
      "        resp_time = t[cross_idx]-0.5*DELTA_T; #i.e., the midpoint of the crossing interval\n",
      "        for j in range(n):\n",
      "            if bound[cross_idx]>=c[j]:\n",
      "                confidence=n-j;\n",
      "                break;\n",
      "            else:\n",
      "                confidence = 1;\n",
      "        if decision == 1:\n",
      "            if ((f[i]>F)or(r[i]<R)):\n",
      "                remKnow = 0;  # know judgment\n",
      "            elif r[i]>R:\n",
      "                remKnow = 1;  # remember judgment\n",
      "            else:\n",
      "                remKnow = -1\n",
      "        else:\n",
      "            remKnow = -1\n",
      "        decisions.append(decision);\n",
      "        resp_times.append(resp_time);\n",
      "        confidences.append(confidence);\n",
      "        remKnows.append(remKnow);\n",
      "            \n",
      "    # Now estimate the joint distribution    \n",
      "    decisions = array(decisions);\n",
      "    resp_times = array(resp_times);\n",
      "    confidences = array(confidences);\n",
      "    remKnows = array(remKnows);\n",
      "    \n",
      "    # compute the probability of making an \"old\" decision\n",
      "    for i in range(n):\n",
      "        rem[i]= logical_and(logical_and(decisions,confidences==(n-i)),remKnows==1).mean();\n",
      "        know[i]= logical_and(logical_and(decisions,confidences==(n-i)),remKnows==0).mean();\n",
      "        #remRT[i]= resp_times[logical_and(logical_and(decisions,confidences==(n-i)),remKnows==1)]; #.mean();\n",
      "        #knowRT[i]= resp_times[logical_and(logical_and(resp_times,confidences==(n-i)),remKnows==0)]; #.mean();\n",
      "    \n",
      "    miss = 1 - (sum(rem)+sum(know));\n",
      "    temp = zeros((size(c),1));\n",
      "    data = vstack((hstack((rem,know,temp)),array([0,0,miss])));\n",
      "   \n",
      "    return data;"
     ],
     "language": "python",
     "metadata": {},
     "outputs": [],
     "prompt_number": 35
    },
    {
     "cell_type": "code",
     "collapsed": false,
     "input": [
      "parameters = array([2.14999176e+00,1.91895786e+00,1.65134971e+00,9.07126943e-01,2.53791872e+00,7.76244905e-02,5.27961963e-01,8.97441314e-01,1.76003093e+00,8.58836240e-01,9.86325805e-01,3.81124524e-05,1.14280532e+00,1.15217237e-04,1.01537547e+00]);\n",
      "a = compute_proportion(parameters);\n",
      "a"
     ],
     "language": "python",
     "metadata": {},
     "outputs": [
      {
       "metadata": {},
       "output_type": "pyout",
       "prompt_number": 36,
       "text": [
        "array([[ 0.3152,  0.06  ,  0.    ],\n",
        "       [ 0.0786,  0.045 ,  0.    ],\n",
        "       [ 0.0804,  0.2276,  0.    ],\n",
        "       [ 0.    ,  0.    ,  0.1932],\n",
        "       [ 0.0454,  0.013 ,  0.    ],\n",
        "       [ 0.0406,  0.031 ,  0.    ],\n",
        "       [ 0.1054,  0.2598,  0.    ],\n",
        "       [ 0.    ,  0.    ,  0.5048]])"
       ]
      }
     ],
     "prompt_number": 36
    },
    {
     "cell_type": "code",
     "collapsed": false,
     "input": [
      "# chi square to estimate goodness of fit between observed and predicted data\n",
      "def chi_square(parm,observed=observed):\n",
      "    old = sum(observed[0:n+1,0:3]);\n",
      "    new = sum(observed[n+1:2*(n+1),0:3]);\n",
      "    predicted = compute_proportion(parm);\n",
      "    chi = 0;\n",
      "    for i in range(size(observed,0)): \n",
      "        for j in range(size(observed,1)):\n",
      "            if predicted[i,j]>0:\n",
      "                if i <= n:\n",
      "                    #print \"old\",i,j;\n",
      "                    predicted[i,j]=predicted[i,j]*old;\n",
      "                else:\n",
      "                    #print \"new\",i,j;\n",
      "                    predicted[i,j]=predicted[i,j]*new;\n",
      "                chi = chi + ((predicted[i,j]-observed[i,j])**2)/predicted[i,j];\n",
      "    return chi;"
     ],
     "language": "python",
     "metadata": {},
     "outputs": [],
     "prompt_number": 37
    },
    {
     "cell_type": "code",
     "collapsed": false,
     "input": [
      "#parameters = array([2.06851575e+00,1.74010851e+00,1.24342257e+00,4.28924193e-01,7.35540415e-01,5.06397278e-02,3.25159634e-01,5.99741692e-01,1.10372808e+00,6.19095584e-01,9.57253220e-01,2.63109253e-05,1.00575430e+00,3.84901207e-05,1.07121459e+00]);\n",
      "#parameters = array([2.06597652e+00,1.79365882e+00,1.48930481e+00,6.61454131e-01,1.23026883e+00,5.81820911e-02,4.72370933e-01,7.17337400e-01,1.46119003e+00,7.29807693e-01,1.00080372e+00,3.29376904e-05,1.18955332e+00,4.24814612e-05,1.13514750e+00]);\n",
      "chi = chi_square(parameters);\n",
      "chi"
     ],
     "language": "python",
     "metadata": {},
     "outputs": [
      {
       "metadata": {},
       "output_type": "pyout",
       "prompt_number": 60,
       "text": [
        "4771.4107131870442"
       ]
      }
     ],
     "prompt_number": 60
    },
    {
     "cell_type": "code",
     "collapsed": false,
     "input": [
      "\n",
      "for i in range(10):\n",
      "    output = optimize.minimize(chi_square,param_initial,method='Nelder-Mead'); # estimate parameters that minimize the negative log likelihood\n",
      "    print output.x;\n",
      "    print output.message;\n",
      "    chi = chi_square(output.x); # check the value of chi square with estimated parameters (sanity check?)\n",
      "    print chi;\n",
      "    param_initial = output.x;\n",
      "    print \"end of run\";"
     ],
     "language": "python",
     "metadata": {},
     "outputs": []
    },
    {
     "cell_type": "code",
     "collapsed": false,
     "input": [],
     "language": "python",
     "metadata": {},
     "outputs": []
    }
   ],
   "metadata": {}
  }
 ]
}